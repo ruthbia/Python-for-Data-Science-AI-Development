{
  "metadata": {
    "kernelspec": {
      "name": "python",
      "display_name": "Python (Pyodide)",
      "language": "python"
    },
    "language_info": {
      "codemirror_mode": {
        "name": "python",
        "version": 3
      },
      "file_extension": ".py",
      "mimetype": "text/x-python",
      "name": "python",
      "nbconvert_exporter": "python",
      "pygments_lexer": "ipython3",
      "version": "3.8"
    }
  },
  "nbformat_minor": 4,
  "nbformat": 4,
  "cells": [
    {
      "cell_type": "markdown",
      "source": "<center>\n    <img src=\"https://cf-courses-data.s3.us.cloud-object-storage.appdomain.cloud/IBMDeveloperSkillsNetwork-PY0101EN-SkillsNetwork/IDSNlogo.png\" width=\"300\" alt=\"cognitiveclass.ai logo\">\n</center>\n\n# String Operations\n\nEstimated time needed: **30** minutes.\n\n## Objectives\n\nAfter completing this lab you will be able to:\n\n*   Work with Strings\n*   Perform operations on String\n*   Manipulate Strings using indexing and escape sequences\n",
      "metadata": {}
    },
    {
      "cell_type": "markdown",
      "source": "<h2>Table of Contents</h2>\n<div class=\"alert alert-block alert-info\" style=\"margin-top: 20px\">\n    <ul>\n        <li>\n            <a href=\"#What-are-Strings?\">What are Strings?</a>\n        </li>\n        <li>\n            <a href=\"#Indexing\">Indexing</a>\n            <ul>\n                <li><a href=\"#Negative-Indexing\">Negative Indexing</a></li>\n                <li><a href=\"#Slicing\">Slicing</a></li>\n                <li><a href=\"#Stride\">Stride</a></li>\n                <li><a href=\"#Concatenate-Strings\">Concatenate Strings</a></li>\n            </ul>\n        </li>\n        <li>\n            <a href=\"#Escape-Sequences\">Escape Sequences</a>\n        </li>\n        <li>\n            <a href=\"#String-Manipulation-Operations\">String Manipulation Operations</a>\n        </li>\n        <li>\n            <a href=\"#Quiz-on-Strings\">Quiz on Strings</a>\n        </li>\n    </ul>\n\n</div>\n\n<hr>\n",
      "metadata": {}
    },
    {
      "cell_type": "markdown",
      "source": "## What are Strings?\n",
      "metadata": {}
    },
    {
      "cell_type": "markdown",
      "source": "The following example shows a string contained within 2 quotation marks:\n",
      "metadata": {}
    },
    {
      "cell_type": "code",
      "source": "# Use quotation marks for defining string\n\n\"Michael Jackson\"",
      "metadata": {},
      "outputs": [],
      "execution_count": null
    },
    {
      "cell_type": "markdown",
      "source": "We can also use single quotation marks:\n",
      "metadata": {}
    },
    {
      "cell_type": "code",
      "source": "# Use single quotation marks for defining string\n\n'Michael Jackson'",
      "metadata": {},
      "outputs": [],
      "execution_count": null
    },
    {
      "cell_type": "markdown",
      "source": "A string can be a combination of spaces and digits:\n",
      "metadata": {}
    },
    {
      "cell_type": "code",
      "source": "# Digitals and spaces in string\n\n'1 2 3 4 5 6 '",
      "metadata": {},
      "outputs": [],
      "execution_count": null
    },
    {
      "cell_type": "markdown",
      "source": "A string can also be a combination of special characters :\n",
      "metadata": {}
    },
    {
      "cell_type": "code",
      "source": "# Special characters in string\n\n'@#2_#]&*^%$'",
      "metadata": {},
      "outputs": [],
      "execution_count": null
    },
    {
      "cell_type": "markdown",
      "source": "We can print our string using the print statement:\n",
      "metadata": {}
    },
    {
      "cell_type": "code",
      "source": "# Print the string\n\nprint(\"hello!\")",
      "metadata": {},
      "outputs": [],
      "execution_count": null
    },
    {
      "cell_type": "markdown",
      "source": "We can bind or assign a string to another variable:\n",
      "metadata": {}
    },
    {
      "cell_type": "code",
      "source": "# Assign string to variable\n\nname = \"Michael Jackson\"\nname",
      "metadata": {},
      "outputs": [],
      "execution_count": null
    },
    {
      "cell_type": "markdown",
      "source": "<hr>\n",
      "metadata": {}
    },
    {
      "cell_type": "markdown",
      "source": "## Indexing\n",
      "metadata": {}
    },
    {
      "cell_type": "markdown",
      "source": "It is helpful to think of a string as an ordered sequence. Each element in the sequence can be accessed using an index represented by the array of numbers:\n",
      "metadata": {}
    },
    {
      "cell_type": "markdown",
      "source": "<img src=\"https://cf-courses-data.s3.us.cloud-object-storage.appdomain.cloud/IBMDeveloperSkillsNetwork-PY0101EN-SkillsNetwork/labs/Module%201/images/StringsIndex.png\" width=\"600\" align=\"center\">\n",
      "metadata": {}
    },
    {
      "cell_type": "markdown",
      "source": "The first index can be accessed as follows:\n",
      "metadata": {}
    },
    {
      "cell_type": "markdown",
      "source": "<hr/>\n<div class=\"alert alert-success alertsuccess\" style=\"margin-top: 20px\">\n[Tip]: Because indexing starts at 0, it means the first index is on the index 0.\n</div>\n<hr/>\n",
      "metadata": {}
    },
    {
      "cell_type": "code",
      "source": "name=\"Rut Martin\"",
      "metadata": {
        "trusted": true
      },
      "outputs": [],
      "execution_count": 3
    },
    {
      "cell_type": "code",
      "source": "print(name[2])",
      "metadata": {
        "trusted": true
      },
      "outputs": [
        {
          "name": "stdout",
          "text": "t\n",
          "output_type": "stream"
        }
      ],
      "execution_count": 6
    },
    {
      "cell_type": "code",
      "source": "# Print the first element in the string\n\nprint(name[0])",
      "metadata": {
        "trusted": true
      },
      "outputs": [
        {
          "ename": "<class 'NameError'>",
          "evalue": "name 'name' is not defined",
          "traceback": [
            "\u001b[0;31m---------------------------------------------------------------------------\u001b[0m",
            "\u001b[0;31mNameError\u001b[0m                                 Traceback (most recent call last)",
            "Cell \u001b[0;32mIn[1], line 3\u001b[0m\n\u001b[1;32m      1\u001b[0m \u001b[38;5;66;03m# Print the first element in the string\u001b[39;00m\n\u001b[0;32m----> 3\u001b[0m \u001b[38;5;28mprint\u001b[39m(\u001b[43mname\u001b[49m[\u001b[38;5;241m0\u001b[39m])\n",
            "\u001b[0;31mNameError\u001b[0m: name 'name' is not defined"
          ],
          "output_type": "error"
        }
      ],
      "execution_count": 1
    },
    {
      "cell_type": "code",
      "source": "",
      "metadata": {
        "trusted": true
      },
      "outputs": [],
      "execution_count": null
    },
    {
      "cell_type": "markdown",
      "source": "We can access index 6:\n",
      "metadata": {}
    },
    {
      "cell_type": "code",
      "source": "# Print the element on index 6 in the string\n\nprint(name[6])",
      "metadata": {
        "trusted": true
      },
      "outputs": [
        {
          "ename": "<class 'NameError'>",
          "evalue": "name 'name' is not defined",
          "traceback": [
            "\u001b[0;31m---------------------------------------------------------------------------\u001b[0m",
            "\u001b[0;31mNameError\u001b[0m                                 Traceback (most recent call last)",
            "Cell \u001b[0;32mIn[2], line 3\u001b[0m\n\u001b[1;32m      1\u001b[0m \u001b[38;5;66;03m# Print the element on index 6 in the string\u001b[39;00m\n\u001b[0;32m----> 3\u001b[0m \u001b[38;5;28mprint\u001b[39m(\u001b[43mname\u001b[49m[\u001b[38;5;241m6\u001b[39m])\n",
            "\u001b[0;31mNameError\u001b[0m: name 'name' is not defined"
          ],
          "output_type": "error"
        }
      ],
      "execution_count": 2
    },
    {
      "cell_type": "markdown",
      "source": "Moreover, we can access the 13th index:\n",
      "metadata": {}
    },
    {
      "cell_type": "code",
      "source": "# Print the element on the 13th index in the string\n\nprint(name[13])",
      "metadata": {},
      "outputs": [],
      "execution_count": null
    },
    {
      "cell_type": "markdown",
      "source": "### Negative Indexing\n",
      "metadata": {}
    },
    {
      "cell_type": "markdown",
      "source": "We can also use negative indexing with strings:\n",
      "metadata": {}
    },
    {
      "cell_type": "markdown",
      "source": "<img src=\"https://cf-courses-data.s3.us.cloud-object-storage.appdomain.cloud/IBMDeveloperSkillsNetwork-PY0101EN-SkillsNetwork/labs/Module%201/images/StringsNeg.png\" width=\"600\" align=\"center\">\n",
      "metadata": {}
    },
    {
      "cell_type": "markdown",
      "source": "Negative index can help us to count the element from the end of the string.\n",
      "metadata": {}
    },
    {
      "cell_type": "markdown",
      "source": "The last element is given by the index -1:\n",
      "metadata": {}
    },
    {
      "cell_type": "code",
      "source": "# Print the last element in the string\n\nprint(name[-1])",
      "metadata": {
        "trusted": true
      },
      "outputs": [
        {
          "name": "stdout",
          "text": "n\n",
          "output_type": "stream"
        }
      ],
      "execution_count": 101
    },
    {
      "cell_type": "markdown",
      "source": "The first element can be obtained by  index -15:\n",
      "metadata": {}
    },
    {
      "cell_type": "code",
      "source": "# Print the first element in the string\n\nprint(name[-15])",
      "metadata": {},
      "outputs": [],
      "execution_count": null
    },
    {
      "cell_type": "markdown",
      "source": "We can find the number of characters in a string by using <code>len</code>, short for length:\n",
      "metadata": {}
    },
    {
      "cell_type": "code",
      "source": "# Find the length of string\n\nlen(\"Michael Jackson\")",
      "metadata": {
        "trusted": true
      },
      "outputs": [
        {
          "execution_count": 7,
          "output_type": "execute_result",
          "data": {
            "text/plain": "15"
          },
          "metadata": {}
        }
      ],
      "execution_count": 7
    },
    {
      "cell_type": "code",
      "source": "len(\"Javier y Rut\")",
      "metadata": {
        "trusted": true
      },
      "outputs": [
        {
          "execution_count": 8,
          "output_type": "execute_result",
          "data": {
            "text/plain": "12"
          },
          "metadata": {}
        }
      ],
      "execution_count": 8
    },
    {
      "cell_type": "code",
      "source": "name=\"Javier y Rut\"",
      "metadata": {
        "trusted": true
      },
      "outputs": [],
      "execution_count": 27
    },
    {
      "cell_type": "code",
      "source": "print(name)",
      "metadata": {
        "trusted": true
      },
      "outputs": [
        {
          "name": "stdout",
          "text": "Javier y Rut\n",
          "output_type": "stream"
        }
      ],
      "execution_count": 10
    },
    {
      "cell_type": "code",
      "source": "print(name[4])",
      "metadata": {
        "trusted": true
      },
      "outputs": [
        {
          "name": "stdout",
          "text": "e\n",
          "output_type": "stream"
        }
      ],
      "execution_count": 11
    },
    {
      "cell_type": "code",
      "source": "name[1:8]",
      "metadata": {
        "trusted": true
      },
      "outputs": [
        {
          "execution_count": 14,
          "output_type": "execute_result",
          "data": {
            "text/plain": "'avier y'"
          },
          "metadata": {}
        }
      ],
      "execution_count": 14
    },
    {
      "cell_type": "markdown",
      "source": "### Slicing\n",
      "metadata": {}
    },
    {
      "cell_type": "markdown",
      "source": "We can obtain multiple characters from a string using slicing, we can obtain the 0 to 4th and 8th to the 12th element:\n",
      "metadata": {}
    },
    {
      "cell_type": "markdown",
      "source": "<img src=\"https://cf-courses-data.s3.us.cloud-object-storage.appdomain.cloud/IBMDeveloperSkillsNetwork-PY0101EN-SkillsNetwork/labs/Module%201/images/StringsSlice.png\" width=\"600\" align=\"center\">\n",
      "metadata": {}
    },
    {
      "cell_type": "markdown",
      "source": "<hr/>\n<div class=\"alert alert-success alertsuccess\" style=\"margin-top: 20px\">\n[Tip]: When taking the slice, the first number means the index (start at 0), and the second number means the length from the index to the last element you want (start at 1)\n</div>\n<hr/>\n",
      "metadata": {}
    },
    {
      "cell_type": "code",
      "source": "# Take the slice on variable name with only index 0 to index 3\n\nname[0:4]",
      "metadata": {},
      "outputs": [],
      "execution_count": null
    },
    {
      "cell_type": "code",
      "source": "# Take the slice on variable name with only index 8 to index 11\n\nname[8:12]",
      "metadata": {},
      "outputs": [],
      "execution_count": null
    },
    {
      "cell_type": "markdown",
      "source": "### Stride\n",
      "metadata": {}
    },
    {
      "cell_type": "markdown",
      "source": "We can also input a stride value as follows, with the '2' indicating that we are selecting every second variable:\n",
      "metadata": {}
    },
    {
      "cell_type": "markdown",
      "source": "<img src=\"https://cf-courses-data.s3.us.cloud-object-storage.appdomain.cloud/IBMDeveloperSkillsNetwork-PY0101EN-SkillsNetwork/labs/Module%201/images/StringsStride.png\" width=\"600\" align=\"center\">\n",
      "metadata": {}
    },
    {
      "cell_type": "code",
      "source": "# Get every second element. The elments on index 1, 3, 5 ...\n\nname[::2]",
      "metadata": {
        "trusted": true
      },
      "outputs": [
        {
          "execution_count": 15,
          "output_type": "execute_result",
          "data": {
            "text/plain": "'Jve  u'"
          },
          "metadata": {}
        }
      ],
      "execution_count": 15
    },
    {
      "cell_type": "markdown",
      "source": "We can also incorporate slicing  with the stride. In this case, we select the first five elements and then use the stride:\n",
      "metadata": {}
    },
    {
      "cell_type": "code",
      "source": "# Get every second element in the range from index 0 to index 4\n\nname[0:5:2]",
      "metadata": {
        "trusted": true
      },
      "outputs": [
        {
          "execution_count": 16,
          "output_type": "execute_result",
          "data": {
            "text/plain": "'Jve'"
          },
          "metadata": {}
        }
      ],
      "execution_count": 16
    },
    {
      "cell_type": "markdown",
      "source": "### Concatenate Strings\n",
      "metadata": {}
    },
    {
      "cell_type": "markdown",
      "source": "We can concatenate or combine strings by using the addition symbols, and the result is a new string that is a combination of both:\n",
      "metadata": {}
    },
    {
      "cell_type": "code",
      "source": "statement = name + \" are the best\"",
      "metadata": {
        "trusted": true
      },
      "outputs": [],
      "execution_count": 34
    },
    {
      "cell_type": "code",
      "source": "statement",
      "metadata": {
        "trusted": true
      },
      "outputs": [
        {
          "execution_count": 35,
          "output_type": "execute_result",
          "data": {
            "text/plain": "'Javier y Rut are the best'"
          },
          "metadata": {}
        }
      ],
      "execution_count": 35
    },
    {
      "cell_type": "code",
      "source": "name",
      "metadata": {
        "trusted": true
      },
      "outputs": [
        {
          "execution_count": 31,
          "output_type": "execute_result",
          "data": {
            "text/plain": "'Javier y Rut'"
          },
          "metadata": {}
        }
      ],
      "execution_count": 31
    },
    {
      "cell_type": "code",
      "source": "# Concatenate two strings\n\nstatement = name + \" is the best\"\nstatement",
      "metadata": {
        "trusted": true
      },
      "outputs": [
        {
          "execution_count": 36,
          "output_type": "execute_result",
          "data": {
            "text/plain": "'Javier y Rut is the best'"
          },
          "metadata": {}
        }
      ],
      "execution_count": 36
    },
    {
      "cell_type": "markdown",
      "source": "To replicate values of a string we simply multiply the string by the number of times we would like to replicate it. In this case, the number is three. The result is a new string, and this new string consists of three copies of the original string:\n",
      "metadata": {}
    },
    {
      "cell_type": "code",
      "source": "# Print the string for 3 times\n\n3 * \"Michael Jackson\"",
      "metadata": {
        "trusted": true
      },
      "outputs": [
        {
          "execution_count": 38,
          "output_type": "execute_result",
          "data": {
            "text/plain": "'Michael JacksonMichael JacksonMichael Jackson'"
          },
          "metadata": {}
        }
      ],
      "execution_count": 38
    },
    {
      "cell_type": "code",
      "source": "3*(statement+\"Blue\")",
      "metadata": {
        "trusted": true
      },
      "outputs": [
        {
          "execution_count": 42,
          "output_type": "execute_result",
          "data": {
            "text/plain": "'Javier y Rut is the bestBlueJavier y Rut is the bestBlueJavier y Rut is the bestBlue'"
          },
          "metadata": {}
        }
      ],
      "execution_count": 42
    },
    {
      "cell_type": "markdown",
      "source": "name",
      "metadata": {}
    },
    {
      "cell_type": "markdown",
      "source": "print(name)",
      "metadata": {}
    },
    {
      "cell_type": "code",
      "source": "",
      "metadata": {
        "trusted": true
      },
      "outputs": [],
      "execution_count": null
    },
    {
      "cell_type": "markdown",
      "source": "You can create a new string by setting it to the original variable. Concatenated  with a new string, the result is a new string that changes from Michael Jackson to “Michael Jackson is the best\".\n",
      "metadata": {}
    },
    {
      "cell_type": "code",
      "source": "print(name)",
      "metadata": {
        "trusted": true
      },
      "outputs": [
        {
          "name": "stdout",
          "text": "Javier y Rut\n",
          "output_type": "stream"
        }
      ],
      "execution_count": 43
    },
    {
      "cell_type": "code",
      "source": "",
      "metadata": {
        "trusted": true
      },
      "outputs": [],
      "execution_count": null
    },
    {
      "cell_type": "code",
      "source": "name=name+\" y Blue\"",
      "metadata": {
        "trusted": true
      },
      "outputs": [],
      "execution_count": 46
    },
    {
      "cell_type": "code",
      "source": "name",
      "metadata": {
        "trusted": true
      },
      "outputs": [
        {
          "execution_count": 47,
          "output_type": "execute_result",
          "data": {
            "text/plain": "'Javier y Ruty Blue y Blue'"
          },
          "metadata": {}
        }
      ],
      "execution_count": 47
    },
    {
      "cell_type": "code",
      "source": "# Concatenate strings\n\nname = \"Michael Jackson\"\nname = name + \" is the best\"\nname",
      "metadata": {},
      "outputs": [],
      "execution_count": null
    },
    {
      "cell_type": "markdown",
      "source": "<hr>\n",
      "metadata": {}
    },
    {
      "cell_type": "markdown",
      "source": "## Escape Sequences\n",
      "metadata": {}
    },
    {
      "cell_type": "markdown",
      "source": "Back slashes represent the beginning  of escape sequences. Escape sequences represent strings that may be difficult to input. For example, back slash \"n\" represents a new line. The output is given by a new line after the back slash \"n\" is encountered:\n",
      "metadata": {}
    },
    {
      "cell_type": "code",
      "source": "# New line escape sequence\n\nprint(\" Michael Jackson \\n is the best\" )",
      "metadata": {
        "trusted": true
      },
      "outputs": [
        {
          "name": "stdout",
          "text": " Michael Jackson \n is the best\n",
          "output_type": "stream"
        }
      ],
      "execution_count": 48
    },
    {
      "cell_type": "code",
      "source": "name=\"Javi, Rut y Blue\"",
      "metadata": {
        "trusted": true
      },
      "outputs": [],
      "execution_count": 54
    },
    {
      "cell_type": "markdown",
      "source": "",
      "metadata": {}
    },
    {
      "cell_type": "code",
      "source": "",
      "metadata": {
        "trusted": true
      },
      "outputs": [],
      "execution_count": null
    },
    {
      "cell_type": "code",
      "source": "print(name + \"\\nse aman\")",
      "metadata": {
        "trusted": true
      },
      "outputs": [
        {
          "name": "stdout",
          "text": "Javi, Rut y Blue\nse aman\n",
          "output_type": "stream"
        }
      ],
      "execution_count": 56
    },
    {
      "cell_type": "code",
      "source": "print(name)",
      "metadata": {
        "trusted": true
      },
      "outputs": [
        {
          "name": "stdout",
          "text": "Javier y Ruty Blue y Blue\n",
          "output_type": "stream"
        }
      ],
      "execution_count": 50
    },
    {
      "cell_type": "raw",
      "source": "print(name \\n\"se aman\")",
      "metadata": {}
    },
    {
      "cell_type": "markdown",
      "source": "Similarly, back slash  \"t\" represents a tab:\n",
      "metadata": {}
    },
    {
      "cell_type": "code",
      "source": "# Tab escape sequence\n\nprint(\" Michael Jackson \\t is the best\" )",
      "metadata": {
        "trusted": true
      },
      "outputs": [
        {
          "name": "stdout",
          "text": " Michael Jackson \t is the best\n",
          "output_type": "stream"
        }
      ],
      "execution_count": 57
    },
    {
      "cell_type": "code",
      "source": "print(name+\"\\t se aman\")",
      "metadata": {
        "trusted": true
      },
      "outputs": [
        {
          "name": "stdout",
          "text": "Javi, Rut y Blue\t se aman\n",
          "output_type": "stream"
        }
      ],
      "execution_count": 58
    },
    {
      "cell_type": "markdown",
      "source": "If you want to place a back slash in your string, use a double back slash:\n",
      "metadata": {}
    },
    {
      "cell_type": "code",
      "source": "# Include back slash in string\n\nprint(\" Michael Jackson \\\\ is the best\" )",
      "metadata": {
        "trusted": true
      },
      "outputs": [
        {
          "name": "stdout",
          "text": " Michael Jackson \\ is the best\n",
          "output_type": "stream"
        }
      ],
      "execution_count": 59
    },
    {
      "cell_type": "markdown",
      "source": "We can also place an \"r\" before the string to display the backslash:\n",
      "metadata": {}
    },
    {
      "cell_type": "code",
      "source": "# r will tell python that string will be display as raw string\n\nprint(r\" Michael Jackson \\ is the best\" )",
      "metadata": {
        "trusted": true
      },
      "outputs": [
        {
          "name": "stdout",
          "text": " Michael Jackson \\ is the best\n",
          "output_type": "stream"
        }
      ],
      "execution_count": 60
    },
    {
      "cell_type": "markdown",
      "source": "<hr>\n",
      "metadata": {}
    },
    {
      "cell_type": "markdown",
      "source": "## String Manipulation Operations\n",
      "metadata": {}
    },
    {
      "cell_type": "markdown",
      "source": "There are many string operation methods in Python that can be used to manipulate the data. We are going to use some basic string operations on the data.\n",
      "metadata": {}
    },
    {
      "cell_type": "markdown",
      "source": "Let's try with the method <code>upper</code>; this method converts lower case characters to upper case characters:\n",
      "metadata": {}
    },
    {
      "cell_type": "code",
      "source": "# Convert all the characters in string to upper case\n\na = \"Thriller is the sixth studio album\"\nprint(a)\nb = a.upper()\nprint(b)",
      "metadata": {
        "trusted": true
      },
      "outputs": [
        {
          "name": "stdout",
          "text": "Thriller is the sixth studio album\nTHRILLER IS THE SIXTH STUDIO ALBUM\n",
          "output_type": "stream"
        }
      ],
      "execution_count": 79
    },
    {
      "cell_type": "code",
      "source": "print(name)",
      "metadata": {
        "trusted": true
      },
      "outputs": [
        {
          "name": "stdout",
          "text": "Javi, Ruth y Blue se aman\n",
          "output_type": "stream"
        }
      ],
      "execution_count": 76
    },
    {
      "cell_type": "code",
      "source": "name=\"Javi, Ruth y Blue se aman\"",
      "metadata": {
        "trusted": true
      },
      "outputs": [],
      "execution_count": 74
    },
    {
      "cell_type": "code",
      "source": "name.upper()",
      "metadata": {
        "trusted": true
      },
      "outputs": [
        {
          "execution_count": 78,
          "output_type": "execute_result",
          "data": {
            "text/plain": "'JAVI, RUTH Y BLUE SE AMAN'"
          },
          "metadata": {}
        }
      ],
      "execution_count": 78
    },
    {
      "cell_type": "code",
      "source": "print(name)",
      "metadata": {
        "trusted": true
      },
      "outputs": [
        {
          "name": "stdout",
          "text": "Javi, Rut y Blue\n",
          "output_type": "stream"
        }
      ],
      "execution_count": 72
    },
    {
      "cell_type": "code",
      "source": "print(, name)",
      "metadata": {
        "trusted": true
      },
      "outputs": [
        {
          "name": "stdout",
          "text": "After upper: Javi, Rut y Blue\n",
          "output_type": "stream"
        }
      ],
      "execution_count": 68
    },
    {
      "cell_type": "code",
      "source": "print(name)",
      "metadata": {
        "trusted": true
      },
      "outputs": [
        {
          "name": "stdout",
          "text": "Javi, Rut y Blue\n",
          "output_type": "stream"
        }
      ],
      "execution_count": 61
    },
    {
      "cell_type": "raw",
      "source": "",
      "metadata": {}
    },
    {
      "cell_type": "markdown",
      "source": "The method <code>replace</code> replaces a segment of the string, i.e. a substring  with a new string. We input the part of the string we would like to change. The second argument is what we would like to exchange the segment with, and the result is a new string with the segment changed:\n",
      "metadata": {}
    },
    {
      "cell_type": "code",
      "source": "name=\"Javi, Ruth y Blue se aman\"",
      "metadata": {
        "trusted": true
      },
      "outputs": [],
      "execution_count": 81
    },
    {
      "cell_type": "code",
      "source": "x=name.replace(\"Blue\", \"Alyna\")",
      "metadata": {
        "trusted": true
      },
      "outputs": [],
      "execution_count": 82
    },
    {
      "cell_type": "code",
      "source": "x",
      "metadata": {
        "trusted": true
      },
      "outputs": [
        {
          "execution_count": 84,
          "output_type": "execute_result",
          "data": {
            "text/plain": "'Javi, Ruth y Alyna se aman'"
          },
          "metadata": {}
        }
      ],
      "execution_count": 84
    },
    {
      "cell_type": "code",
      "source": "# Replace the old substring with the new target substring is the segment has been found in the string\n\na = \"Michael Jackson is the best\"\nb = a.replace('Michael', 'Janet')\nb",
      "metadata": {
        "trusted": true
      },
      "outputs": [
        {
          "execution_count": 80,
          "output_type": "execute_result",
          "data": {
            "text/plain": "'Janet Jackson is the best'"
          },
          "metadata": {}
        }
      ],
      "execution_count": 80
    },
    {
      "cell_type": "markdown",
      "source": "The method <code>find</code> finds a sub-string. The argument is the substring you would like to find, and the output is the first index of the sequence. We can find the sub-string <code>jack</code> or <code>el<code>.\n",
      "metadata": {}
    },
    {
      "cell_type": "markdown",
      "source": "<img src=\"https://cf-courses-data.s3.us.cloud-object-storage.appdomain.cloud/IBMDeveloperSkillsNetwork-PY0101EN-SkillsNetwork/labs/Module%201/images/StringsFind.png\" width=\"600\" align=\"center\">\n",
      "metadata": {}
    },
    {
      "cell_type": "code",
      "source": "# Find the substring in the string. Only the index of the first elment of substring in string will be the output\n\nname = \"Michael Jackson\"\nname.find('el')",
      "metadata": {
        "trusted": true
      },
      "outputs": [
        {
          "execution_count": 1,
          "output_type": "execute_result",
          "data": {
            "text/plain": "5"
          },
          "metadata": {}
        }
      ],
      "execution_count": 1
    },
    {
      "cell_type": "code",
      "source": "name.find(\"cha\")",
      "metadata": {
        "trusted": true
      },
      "outputs": [
        {
          "execution_count": 5,
          "output_type": "execute_result",
          "data": {
            "text/plain": "2"
          },
          "metadata": {}
        }
      ],
      "execution_count": 5
    },
    {
      "cell_type": "code",
      "source": "print(name)",
      "metadata": {
        "trusted": true
      },
      "outputs": [
        {
          "name": "stdout",
          "text": "Michael Jackson\n",
          "output_type": "stream"
        }
      ],
      "execution_count": 4
    },
    {
      "cell_type": "code",
      "source": "# Find the substring in the string.\n\nname.find('Jack')",
      "metadata": {
        "trusted": true
      },
      "outputs": [
        {
          "execution_count": 2,
          "output_type": "execute_result",
          "data": {
            "text/plain": "8"
          },
          "metadata": {}
        }
      ],
      "execution_count": 2
    },
    {
      "cell_type": "code",
      "source": "",
      "metadata": {
        "trusted": true
      },
      "outputs": [],
      "execution_count": null
    },
    {
      "cell_type": "markdown",
      "source": "If the  sub-string is not in the string then the output is a negative one. For example, the string 'Jasdfasdasdf' is not a substring:\n",
      "metadata": {}
    },
    {
      "cell_type": "code",
      "source": "# If cannot find the substring in the string\n\nname.find('Jasdfasdasdf')",
      "metadata": {
        "trusted": true
      },
      "outputs": [
        {
          "execution_count": 3,
          "output_type": "execute_result",
          "data": {
            "text/plain": "-1"
          },
          "metadata": {}
        }
      ],
      "execution_count": 3
    },
    {
      "cell_type": "markdown",
      "source": "The method <code>Split</code> splits the string at the specified separator, and returns a list:\n",
      "metadata": {}
    },
    {
      "cell_type": "code",
      "source": "#Split the substring into list\nname = \"Michael Jackson\"\nsplit_string = (name.split())\nsplit_string",
      "metadata": {
        "trusted": true
      },
      "outputs": [
        {
          "execution_count": 7,
          "output_type": "execute_result",
          "data": {
            "text/plain": "['Michael', 'Jackson']"
          },
          "metadata": {}
        }
      ],
      "execution_count": 7
    },
    {
      "cell_type": "code",
      "source": "name.split()",
      "metadata": {
        "trusted": true
      },
      "outputs": [
        {
          "execution_count": 8,
          "output_type": "execute_result",
          "data": {
            "text/plain": "['Michael', 'Jackson']"
          },
          "metadata": {}
        }
      ],
      "execution_count": 8
    },
    {
      "cell_type": "markdown",
      "source": "<hr>\n",
      "metadata": {}
    },
    {
      "cell_type": "markdown",
      "source": "## RegEx\n",
      "metadata": {}
    },
    {
      "cell_type": "markdown",
      "source": "In Python, RegEx (short for Regular Expression) is a tool for matching and handling strings. \n",
      "metadata": {}
    },
    {
      "cell_type": "markdown",
      "source": "This RegEx module provides several functions for working with regular expressions, including <code>search, split, findall,</code> and <code>sub</code>. \n",
      "metadata": {}
    },
    {
      "cell_type": "markdown",
      "source": "Python provides a built-in module called <code>re</code>, which allows you to work with regular expressions. \nFirst, import the <code>re</code> module\n",
      "metadata": {}
    },
    {
      "cell_type": "code",
      "source": "import re",
      "metadata": {
        "trusted": true
      },
      "outputs": [],
      "execution_count": 9
    },
    {
      "cell_type": "markdown",
      "source": "The search() function searches for specified patterns within a string. Here is an example that explains how to use the search() function to search for the word \"Jackson\" in the string \"Michael Jackson is the best\".\n",
      "metadata": {}
    },
    {
      "cell_type": "code",
      "source": "s1 = \"Michael Jackson is the best\"\n\n# Define the pattern to search for\npattern = \"Jackson\"\n\n# Use the search() function to search for the pattern in the string\nresult = re.search(pattern, s1)\n\n# Check if a match was found\nif result:\n    print(\"Match found!\")\nelse:\n    print(\"Match not found.\")\n",
      "metadata": {
        "trusted": true
      },
      "outputs": [
        {
          "name": "stdout",
          "text": "Match found!\n",
          "output_type": "stream"
        }
      ],
      "execution_count": 23
    },
    {
      "cell_type": "code",
      "source": "s1= \"Amarilla es un libro top\"",
      "metadata": {
        "trusted": true
      },
      "outputs": [],
      "execution_count": 15
    },
    {
      "cell_type": "code",
      "source": "pattern=\"az\"",
      "metadata": {
        "trusted": true
      },
      "outputs": [],
      "execution_count": 26
    },
    {
      "cell_type": "code",
      "source": "result=re.search(pattern,s1)",
      "metadata": {
        "trusted": true
      },
      "outputs": [],
      "execution_count": 28
    },
    {
      "cell_type": "code",
      "source": "if result:\n    print(\"yeaaah\")\nelse:\n    print(\"nonono\")",
      "metadata": {
        "trusted": true
      },
      "outputs": [
        {
          "name": "stdout",
          "text": "nonono\n",
          "output_type": "stream"
        }
      ],
      "execution_count": 29
    },
    {
      "cell_type": "markdown",
      "source": "Regular expressions (RegEx) are patterns used to match and manipulate strings of text. There are several special sequences in RegEx that can be used to match specific characters or patterns.\n\n| Special Sequence | Meaning                 | \tExample             |\n| -----------  | ----------------------- | ----------------------|\n| \\d|Matches any digit character (0-9)|\"123\" matches \"\\d\\d\\d\"|\n|\\D|Matches any non-digit character|\"hello\" matches \"\\D\\D\\D\\D\\D\"|\n|\\w|Matches any word character (a-z, A-Z, 0-9, and _)|\"hello_world\" matches \"\\w\\w\\w\\w\\w\\w\\w\\w\\w\\w\\w\"|\n|\\W|Matches any non-word character|\t\"@#$%\" matches \"\\W\\W\\W\\W\"|\n|\\s|Matches any whitespace character (space, tab, newline, etc.)|\"hello world\" matches \"\\w\\w\\w\\w\\w\\s\\w\\w\\w\\w\\w\"|\n|\\S|Matches any non-whitespace character|\"hello_world\" matches \"\\S\\S\\S\\S\\S\\S\\S\\S\\S\"|\n|\\b|Matches the boundary between a word character and a non-word character|\"cat\" matches \"\\bcat\\b\" in \"The cat sat on the mat\"|\n|\\B|Matches any position that is not a word boundary|\"cat\" matches \"\\Bcat\\B\" in \"category\" but not in \"The cat sat on the mat\"|\n",
      "metadata": {}
    },
    {
      "cell_type": "markdown",
      "source": "Special Sequence Examples:\n\nA simple example of using the <code>\\d</code> special sequence in a regular expression pattern with Python code:\n",
      "metadata": {}
    },
    {
      "cell_type": "code",
      "source": "pattern = r\"\\d\\d\\d\\d\\d\\d\\d\\d\\d\\d\"  # Matches any ten consecutive digits\ntext = \"My Phone number is 1234567890\"\nmatch = re.search(pattern, text)\n\nif match:\n    print(\"Phone number found:\", match.group())\nelse:\n    print(\"No match\")",
      "metadata": {
        "trusted": true
      },
      "outputs": [
        {
          "name": "stdout",
          "text": "Phone number found: 1234567890\n",
          "output_type": "stream"
        }
      ],
      "execution_count": 30
    },
    {
      "cell_type": "code",
      "source": "s1=\"Mi numero de telefono es 915196657\"\npattern=\"\\d\\d\\d\\d\\d\\d\\d\\d\\d\"\nmatch=re.search(pattern,s1)\n\nif match:\n    print(\"numero de telefono encontrado\")\nelse:\n    print(\"numero de telefono no encontrado\")",
      "metadata": {
        "trusted": true
      },
      "outputs": [
        {
          "name": "stderr",
          "text": "<unknown>:2: SyntaxWarning: invalid escape sequence '\\d'\n<>:2: SyntaxWarning: invalid escape sequence '\\d'\n<>:2: SyntaxWarning: invalid escape sequence '\\d'\n<ipython-input-36-0bcb45363421>:2: SyntaxWarning: invalid escape sequence '\\d'\n  pattern=\"\\d\\d\\d\\d\\d\\d\\d\\d\\d\"\n",
          "output_type": "stream"
        },
        {
          "name": "stdout",
          "text": "numero de telefono encontrado\n",
          "output_type": "stream"
        }
      ],
      "execution_count": 36
    },
    {
      "cell_type": "code",
      "source": "",
      "metadata": {
        "trusted": true
      },
      "outputs": [
        {
          "name": "stderr",
          "text": "<unknown>:1: SyntaxWarning: invalid escape sequence '\\d'\n<>:1: SyntaxWarning: invalid escape sequence '\\d'\n<>:1: SyntaxWarning: invalid escape sequence '\\d'\n<ipython-input-33-c8e30319129f>:1: SyntaxWarning: invalid escape sequence '\\d'\n  pattern=\"\\d\\d\\d\\d\\d\\d\\d\\d\\d\"\n",
          "output_type": "stream"
        }
      ],
      "execution_count": 33
    },
    {
      "cell_type": "code",
      "source": "",
      "metadata": {
        "trusted": true
      },
      "outputs": [],
      "execution_count": null
    },
    {
      "cell_type": "markdown",
      "source": "The regular expression pattern is defined as r\"\\d\\d\\d\\d\\d\\d\\d\\d\\d\\d\", which uses the \\d special sequence to match any digit character (0-9), and the \\d sequence is repeated ten times to match ten consecutive digits\n",
      "metadata": {}
    },
    {
      "cell_type": "markdown",
      "source": "A simple example of using the <code>\\W</code> special sequence in a regular expression pattern with Python code:\n",
      "metadata": {}
    },
    {
      "cell_type": "code",
      "source": "pattern = r\"\\W\"  # Matches any non-word character\ntext = \"Hello, world!\"\nmatches = re.findall(pattern, text)\n\nprint(\"Matches:\", matches)",
      "metadata": {
        "trusted": true
      },
      "outputs": [
        {
          "name": "stdout",
          "text": "Matches: [',', ' ', '!']\n",
          "output_type": "stream"
        }
      ],
      "execution_count": 37
    },
    {
      "cell_type": "code",
      "source": "text= \"Hola, ¿Qué tal estás?\"\npattern=r\"\\W\"\nmatches=re.findall(pattern,text)\n\nprint(matches)",
      "metadata": {
        "trusted": true
      },
      "outputs": [
        {
          "name": "stdout",
          "text": "[',', ' ', '¿', ' ', ' ', '?']\n",
          "output_type": "stream"
        }
      ],
      "execution_count": 43
    },
    {
      "cell_type": "markdown",
      "source": "The regular expression pattern is defined as r\"\\W\", which uses the \\W special sequence to match any character that is not a word character (a-z, A-Z, 0-9, or _). The string we're searching for matches in is \"Hello, world!\".\n",
      "metadata": {}
    },
    {
      "cell_type": "markdown",
      "source": "The <code>findall()</code> function finds all occurrences of a specified pattern within a string.\n",
      "metadata": {}
    },
    {
      "cell_type": "code",
      "source": "s2 = \"Michael Jackson was a singer and known as the 'King of Pop'\"\n\n\n# Use the findall() function to find all occurrences of the \"as\" in the string\nresult = re.findall(\"as\", s2)\n\n# Print out the list of matched words\nprint(result)\n",
      "metadata": {
        "trusted": true
      },
      "outputs": [
        {
          "name": "stdout",
          "text": "['as', 'as']\n",
          "output_type": "stream"
        }
      ],
      "execution_count": 41
    },
    {
      "cell_type": "markdown",
      "source": "A regular expression's <code>split()</code> function splits a string into an array of substrings based on a specified pattern.\n",
      "metadata": {}
    },
    {
      "cell_type": "code",
      "source": "# Use the split function to split the string by the \"\\s\"\nsplit_array = re.split(r\"\\s\", s2)\n\n# The split_array contains all the substrings, split by whitespace characters\nprint(split_array) ",
      "metadata": {
        "trusted": true
      },
      "outputs": [
        {
          "name": "stdout",
          "text": "['Michael', 'Jackson', 'was', 'a', 'singer', 'and', 'known', 'as', 'the', \"'King\", 'of', \"Pop'\"]\n",
          "output_type": "stream"
        }
      ],
      "execution_count": 59
    },
    {
      "cell_type": "code",
      "source": "split_array_2 = re.split(\"o\", \"holacola.\")\nprint(split_array_2)",
      "metadata": {
        "trusted": true
      },
      "outputs": [
        {
          "name": "stdout",
          "text": "['h', 'lac', 'la.']\n",
          "output_type": "stream"
        }
      ],
      "execution_count": 61
    },
    {
      "cell_type": "code",
      "source": "text= \"Foo Fighters vienen a Madrid en 2025\"\nre.split(\"\\s\", text)",
      "metadata": {
        "trusted": true
      },
      "outputs": [
        {
          "ename": "<class 'TypeError'>",
          "evalue": "split() missing 1 required positional argument: 'string'",
          "traceback": [
            "\u001b[0;31m---------------------------------------------------------------------------\u001b[0m",
            "\u001b[0;31mTypeError\u001b[0m                                 Traceback (most recent call last)",
            "Cell \u001b[0;32mIn[50], line 2\u001b[0m\n\u001b[1;32m      1\u001b[0m text\u001b[38;5;241m=\u001b[39m \u001b[38;5;124m\"\u001b[39m\u001b[38;5;124mFoo Fighters vienen a Madrid en 2025\u001b[39m\u001b[38;5;124m\"\u001b[39m\n\u001b[0;32m----> 2\u001b[0m \u001b[43mre\u001b[49m\u001b[38;5;241;43m.\u001b[39;49m\u001b[43msplit\u001b[49m\u001b[43m(\u001b[49m\u001b[43mtext\u001b[49m\u001b[43m)\u001b[49m\n",
            "\u001b[0;31mTypeError\u001b[0m: split() missing 1 required positional argument: 'string'"
          ],
          "output_type": "error"
        }
      ],
      "execution_count": 50
    },
    {
      "cell_type": "markdown",
      "source": "The <code>sub</code> function of a regular expression in Python is used to replace all occurrences of a pattern in a string with a specified replacement.\n",
      "metadata": {}
    },
    {
      "cell_type": "code",
      "source": "# Define the regular expression pattern to search for\npattern = r\"King of Pop\"\n\n# Define the replacement string\nreplacement = \"legend\"\n\n# Use the sub function to replace the pattern with the replacement string\nnew_string = re.sub(pattern, replacement, s2, flags=re.IGNORECASE)\n\n# The new_string contains the original string with the pattern replaced by the replacement string\nprint(new_string) ",
      "metadata": {
        "trusted": true
      },
      "outputs": [
        {
          "name": "stdout",
          "text": "Michael Jackson was a singer and known as the 'legend'\n",
          "output_type": "stream"
        }
      ],
      "execution_count": 48
    },
    {
      "cell_type": "code",
      "source": "text= \"Foo fighters tocarán en Madrid en 2025\"\npattern=\"Madrid en 2025\"\nreplacement=\"Cuenca en 2024\"\nre.sub(pattern, replacement, text)\n",
      "metadata": {
        "trusted": true
      },
      "outputs": [
        {
          "execution_count": 52,
          "output_type": "execute_result",
          "data": {
            "text/plain": "'Foo fighters tocarán en Cuenca en 2024'"
          },
          "metadata": {}
        }
      ],
      "execution_count": 52
    },
    {
      "cell_type": "markdown",
      "source": "<hr>\n",
      "metadata": {}
    },
    {
      "cell_type": "markdown",
      "source": "<h2 id=\"quiz\">Quiz on Strings</h2>\n",
      "metadata": {}
    },
    {
      "cell_type": "markdown",
      "source": "What is the value of the variable <code>a</code> after the following code is executed?\n",
      "metadata": {}
    },
    {
      "cell_type": "code",
      "source": "# Write your code below and press Shift+Enter to execute \n\na = 1\na",
      "metadata": {
        "trusted": true
      },
      "outputs": [
        {
          "execution_count": 64,
          "output_type": "execute_result",
          "data": {
            "text/plain": "1"
          },
          "metadata": {}
        }
      ],
      "execution_count": 64
    },
    {
      "cell_type": "markdown",
      "source": "<details><summary>Click here for the solution</summary>\n\n```python\n\"1\"\n\n```\n\n</details>\n",
      "metadata": {}
    },
    {
      "cell_type": "markdown",
      "source": "What is the value of the variable <code>b</code> after the following code is executed?\n",
      "metadata": {}
    },
    {
      "cell_type": "code",
      "source": "# Write your code below and press Shift+Enter to execute\n\nb = 2\nb",
      "metadata": {
        "trusted": true
      },
      "outputs": [
        {
          "execution_count": 66,
          "output_type": "execute_result",
          "data": {
            "text/plain": "2"
          },
          "metadata": {}
        }
      ],
      "execution_count": 66
    },
    {
      "cell_type": "markdown",
      "source": "<details><summary>Click here for the solution</summary>\n\n```python\n\"2\"\n\n```\n\n</details>\n",
      "metadata": {}
    },
    {
      "cell_type": "markdown",
      "source": "What is the value of the variable <code>c</code> after the following code is executed?\n",
      "metadata": {}
    },
    {
      "cell_type": "code",
      "source": "# Write your code below and press Shift+Enter to execute \n\nc = a + b",
      "metadata": {
        "trusted": true
      },
      "outputs": [],
      "execution_count": 68
    },
    {
      "cell_type": "markdown",
      "source": "<details><summary>Click here for the solution</summary>\n\n```python\n\"12\"\n\n```\n\n</details>\n",
      "metadata": {}
    },
    {
      "cell_type": "markdown",
      "source": "<hr>\n",
      "metadata": {}
    },
    {
      "cell_type": "markdown",
      "source": "Consider the variable <code>d</code> use slicing to print out the first three elements:\n",
      "metadata": {}
    },
    {
      "cell_type": "code",
      "source": "# Write your code below and press Shift+Enter to execute\n\nd = \"ABCDEFG\"",
      "metadata": {
        "trusted": true
      },
      "outputs": [],
      "execution_count": 69
    },
    {
      "cell_type": "markdown",
      "source": "<details><summary>Click here for the solution</summary>\n\n```python\nprint(d[:3]) \n\n# or \n\nprint(d[0:3])\n\n```\n\n</details>\n",
      "metadata": {}
    },
    {
      "cell_type": "markdown",
      "source": "<hr>\n",
      "metadata": {}
    },
    {
      "cell_type": "markdown",
      "source": "Use a stride value of 2 to print out every second character of the string <code>e</code>:\n",
      "metadata": {}
    },
    {
      "cell_type": "code",
      "source": "# Write your code below and press Shift+Enter to execute\n\ne = 'clocrkr1e1c1t'\nprint(e[::2])",
      "metadata": {
        "trusted": true
      },
      "outputs": [
        {
          "name": "stdout",
          "text": "correct\n",
          "output_type": "stream"
        }
      ],
      "execution_count": 71
    },
    {
      "cell_type": "markdown",
      "source": "<details><summary>Click here for the solution</summary>\n\n```python\nprint(e[::2])\n\n```\n\n</details>\n",
      "metadata": {}
    },
    {
      "cell_type": "markdown",
      "source": "<hr>\n",
      "metadata": {}
    },
    {
      "cell_type": "markdown",
      "source": "Print out a backslash:\n",
      "metadata": {}
    },
    {
      "cell_type": "code",
      "source": "# Write your code below and press Shift+Enter to execute\nprint(\"Ruth es \\tla mejor\")",
      "metadata": {
        "trusted": true
      },
      "outputs": [
        {
          "name": "stdout",
          "text": "Ruth es \tla mejor\n",
          "output_type": "stream"
        }
      ],
      "execution_count": 82
    },
    {
      "cell_type": "code",
      "source": "e",
      "metadata": {
        "trusted": true
      },
      "outputs": [
        {
          "execution_count": 78,
          "output_type": "execute_result",
          "data": {
            "text/plain": "'Ruth es \\n la mejor'"
          },
          "metadata": {}
        }
      ],
      "execution_count": 78
    },
    {
      "cell_type": "markdown",
      "source": "<details><summary>Click here for the solution</summary>\n\n```python\nprint(\"\\\\\\\\\\\\\")\n\nor\n\nprint(r\"\\ \")\n\n```\n\n</details>\n",
      "metadata": {}
    },
    {
      "cell_type": "markdown",
      "source": "<hr>\n",
      "metadata": {}
    },
    {
      "cell_type": "markdown",
      "source": "Convert the variable <code>f</code> to uppercase:\n",
      "metadata": {}
    },
    {
      "cell_type": "code",
      "source": "# Write your code below and press Shift+Enter to execute\n\nf = \"You are wrong\"\nf.upper()",
      "metadata": {
        "trusted": true
      },
      "outputs": [
        {
          "execution_count": 86,
          "output_type": "execute_result",
          "data": {
            "text/plain": "'YOU ARE WRONG'"
          },
          "metadata": {}
        }
      ],
      "execution_count": 86
    },
    {
      "cell_type": "markdown",
      "source": "<details><summary>Click here for the solution</summary>\n\n```python\nf.upper()\n\n```\n\n</details>\n",
      "metadata": {}
    },
    {
      "cell_type": "markdown",
      "source": "Convert the variable <code>f2</code> to lowercase:\n",
      "metadata": {}
    },
    {
      "cell_type": "code",
      "source": "# Write your code below and press Shift+Enter to execute\nf2=\"YOU ARE RIGHT\"\nf2.lower()",
      "metadata": {
        "trusted": true
      },
      "outputs": [
        {
          "execution_count": 87,
          "output_type": "execute_result",
          "data": {
            "text/plain": "'you are right'"
          },
          "metadata": {}
        }
      ],
      "execution_count": 87
    },
    {
      "cell_type": "markdown",
      "source": "<details><summary>Click here for the solution</summary>\n\n```python\nf2.lower()\n\n```\n\n</details>\n",
      "metadata": {}
    },
    {
      "cell_type": "markdown",
      "source": "<hr>\n",
      "metadata": {}
    },
    {
      "cell_type": "markdown",
      "source": "Consider the variable <code>g</code>, and find the first index of the sub-string <code>snow</code>:\n",
      "metadata": {}
    },
    {
      "cell_type": "code",
      "source": "# Write your code below and press Shift+Enter to execute\n\ng = \"Mary had a little lamb Little lamb, little lamb Mary had a little lamb \\\nIts fleece was white as snow And everywhere that Mary went Mary went, Mary went \\\nEverywhere that Mary went The lamb was sure to go\"\ng.find(\"snow\")",
      "metadata": {
        "trusted": true
      },
      "outputs": [
        {
          "execution_count": 88,
          "output_type": "execute_result",
          "data": {
            "text/plain": "95"
          },
          "metadata": {}
        }
      ],
      "execution_count": 88
    },
    {
      "cell_type": "markdown",
      "source": "<details><summary>Click here for the solution</summary>\n\n```python\ng.find(\"snow\")\n\n```\n\n</details>\n",
      "metadata": {}
    },
    {
      "cell_type": "markdown",
      "source": "In the variable <code>g</code>, replace the sub-string <code>Mary</code> with <code>Bob</code>:\n",
      "metadata": {}
    },
    {
      "cell_type": "code",
      "source": "g.replace(\"Mary\", \"Bob\")",
      "metadata": {
        "trusted": true
      },
      "outputs": [
        {
          "execution_count": 90,
          "output_type": "execute_result",
          "data": {
            "text/plain": "'Bob had a little lamb Little lamb, little lamb Bob had a little lamb Its fleece was white as snow And everywhere that Bob went Bob went, Bob went Everywhere that Bob went The lamb was sure to go'"
          },
          "metadata": {}
        }
      ],
      "execution_count": 90
    },
    {
      "cell_type": "code",
      "source": "# Write your code below and press Shift+Enter to executeg",
      "metadata": {},
      "outputs": [],
      "execution_count": null
    },
    {
      "cell_type": "markdown",
      "source": "<details><summary>Click here for the solution</summary>\n\n```python\ng.replace(\"Mary\", \"Bob\")\n\n```\n\n</details>\n",
      "metadata": {}
    },
    {
      "cell_type": "markdown",
      "source": "In the variable <code>g</code>, replace the sub-string <code>,</code> with <code>.</code>:\n",
      "metadata": {}
    },
    {
      "cell_type": "code",
      "source": "# Write your code below and press Shift+Enter to execute\nRatings=(10,9,6,9,8,7,6,4)\nSorted=sorted(Ratings)\nSorted",
      "metadata": {
        "trusted": true
      },
      "outputs": [
        {
          "execution_count": 124,
          "output_type": "execute_result",
          "data": {
            "text/plain": "[4, 6, 6, 7, 8, 9, 9, 10]"
          },
          "metadata": {}
        }
      ],
      "execution_count": 124
    },
    {
      "cell_type": "markdown",
      "source": "<details><summary>Click here for the solution</summary>\n\n```python\ng.replace(',','.')\n\n```\n\n</details>\n",
      "metadata": {}
    },
    {
      "cell_type": "markdown",
      "source": "In the variable <code>g</code>, split the substring to list:\n",
      "metadata": {}
    },
    {
      "cell_type": "code",
      "source": "# Write your code below and press Shift+Enter to executeg\ng.split()",
      "metadata": {
        "trusted": true
      },
      "outputs": [
        {
          "execution_count": 91,
          "output_type": "execute_result",
          "data": {
            "text/plain": "['Mary',\n 'had',\n 'a',\n 'little',\n 'lamb',\n 'Little',\n 'lamb,',\n 'little',\n 'lamb',\n 'Mary',\n 'had',\n 'a',\n 'little',\n 'lamb',\n 'Its',\n 'fleece',\n 'was',\n 'white',\n 'as',\n 'snow',\n 'And',\n 'everywhere',\n 'that',\n 'Mary',\n 'went',\n 'Mary',\n 'went,',\n 'Mary',\n 'went',\n 'Everywhere',\n 'that',\n 'Mary',\n 'went',\n 'The',\n 'lamb',\n 'was',\n 'sure',\n 'to',\n 'go']"
          },
          "metadata": {}
        }
      ],
      "execution_count": 91
    },
    {
      "cell_type": "markdown",
      "source": "<details><summary>Click here for the solution</summary>\n\n```python\ng.split()\n\n```\n\n</details>\n",
      "metadata": {}
    },
    {
      "cell_type": "markdown",
      "source": "In the string <code>s3</code>, find whether the digit is present or not using the <code>\\d</code> and <code>search() </code>function:\n",
      "metadata": {}
    },
    {
      "cell_type": "code",
      "source": "s3 = \"House number- 1105\"\nresult=re.search(\"\\d\", s3)\n\nif result:\n    print(\"digital found\")\nelse:\n    print(\"digit not found\")\n    \n# Write your code below and press Shift+Enter to execute",
      "metadata": {
        "trusted": true
      },
      "outputs": [
        {
          "name": "stderr",
          "text": "<unknown>:2: SyntaxWarning: invalid escape sequence '\\d'\n<>:2: SyntaxWarning: invalid escape sequence '\\d'\n<>:2: SyntaxWarning: invalid escape sequence '\\d'\n<ipython-input-93-a3c42d1ca2d3>:2: SyntaxWarning: invalid escape sequence '\\d'\n  result=re.search(\"\\d\", s3)\n",
          "output_type": "stream"
        },
        {
          "name": "stdout",
          "text": "digital found\n",
          "output_type": "stream"
        }
      ],
      "execution_count": 93
    },
    {
      "cell_type": "markdown",
      "source": "<details><summary>Click here for the solution</summary>\n\n```python\n# Use the search() function to search for the \"\\d\" in the string\nresult = re.search(\"\\d\", s3)\n\n# Check if a match was found\nif result:\n    print(\"Digit found\")\nelse:\n    print(\"Digit not found.\")\n```\n\n</details>\n",
      "metadata": {}
    },
    {
      "cell_type": "markdown",
      "source": "In the string <code>str1</code>, replace the sub-string <code>fox</code> with <code>bear</code> using <code>sub() </code>function:\n",
      "metadata": {}
    },
    {
      "cell_type": "code",
      "source": "str1= \"The quick brown fox jumps over the lazy dog.\"\nnew_str1=re.sub(\"fox\", \"bear\", str1)\nprint(new_str1)\n\n# Write your code below and press Shift+Enter to execute\n",
      "metadata": {
        "trusted": true
      },
      "outputs": [
        {
          "name": "stdout",
          "text": "The quick brown bear jumps over the lazy dog.\n",
          "output_type": "stream"
        }
      ],
      "execution_count": 97
    },
    {
      "cell_type": "markdown",
      "source": "<details><summary>Click here for the solution</summary>\n\n```python\n# Use re.sub() to replace \"fox\" with \"bear\"\nnew_str1 = re.sub(r\"fox\", \"bear\", str1)\n\nprint(new_str1)\n```\n\n</details>\n",
      "metadata": {}
    },
    {
      "cell_type": "markdown",
      "source": "In the string <code>str2</code> find all the occurrences of <code>woo</code> using <code>findall()</code> function:\n",
      "metadata": {}
    },
    {
      "cell_type": "code",
      "source": "str2= \"How much wood would a woodchuck chuck, if a woodchuck could chuck wood?\"\npattern=\"woo\"\nnew_str2=re.findall(pattern, str2)\nprint(new_str2)\n\n# Write your code below and press Shift+Enter to execute\n",
      "metadata": {
        "trusted": true
      },
      "outputs": [
        {
          "name": "stdout",
          "text": "['woo', 'woo', 'woo', 'woo']\n",
          "output_type": "stream"
        }
      ],
      "execution_count": 100
    },
    {
      "cell_type": "markdown",
      "source": "<details><summary>Click here for the solution</summary>\n\n```python\n# Use re.findall() to find all occurrences of \"woo\"\nmatches = re.findall(r\"woo\", str2)\n\nprint(matches)\n```\n\n</details>\n",
      "metadata": {}
    },
    {
      "cell_type": "markdown",
      "source": "<hr>\n<h2>The last exercise!</h2>\n<p>Congratulations, you have completed your first lesson and hands-on lab in Python.\n<hr>\n",
      "metadata": {}
    },
    {
      "cell_type": "markdown",
      "source": "## Author\n\n<a href=\"https://www.linkedin.com/in/joseph-s-50398b136/?utm_medium=Exinfluencer&utm_source=Exinfluencer&utm_content=000026UJ&utm_term=10006555&utm_id=NA-SkillsNetwork-Channel-SkillsNetworkCoursesIBMDeveloperSkillsNetworkPY0101ENSkillsNetwork19487395-2021-01-01\" target=\"_blank\">Joseph Santarcangelo</a>\n\n<img src=\"https://cf-courses-data.s3.us.cloud-object-storage.appdomain.cloud/IBMDeveloperSkillsNetwork-PY0101EN-SkillsNetwork/SNIBMfooter.png\" alt=\"\" width=\"\" height=\"\">\n",
      "metadata": {}
    }
  ]
}